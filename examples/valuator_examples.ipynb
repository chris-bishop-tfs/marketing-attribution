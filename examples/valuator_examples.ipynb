{
 "cells": [
  {
   "cell_type": "markdown",
   "id": "c092cdda",
   "metadata": {},
   "source": [
    "### Overview\n",
    "\n",
    "Provide some examples of how to use the `attribution` package."
   ]
  },
  {
   "cell_type": "code",
   "execution_count": 9,
   "id": "f1e0f03f",
   "metadata": {},
   "outputs": [
    {
     "data": {
      "text/plain": [
       "[{'identifier': 1, 'impressions': ['B', 'A'], 'value': 944},\n",
       " {'identifier': 2, 'impressions': ['B', 'A'], 'value': 952},\n",
       " {'identifier': 3, 'impressions': ['B', 'A'], 'value': 776},\n",
       " {'identifier': 4, 'impressions': ['C', 'B', 'A'], 'value': 1389},\n",
       " {'identifier': 5, 'impressions': ['C', 'B'], 'value': 717},\n",
       " {'identifier': 6, 'impressions': ['B'], 'value': 628},\n",
       " {'identifier': 7, 'impressions': ['A'], 'value': 332},\n",
       " {'identifier': 8, 'impressions': ['C', 'A'], 'value': 433},\n",
       " {'identifier': 9, 'impressions': ['C'], 'value': 199},\n",
       " {'identifier': 10, 'impressions': ['A'], 'value': 68}]"
      ]
     },
     "execution_count": 9,
     "metadata": {},
     "output_type": "execute_result"
    }
   ],
   "source": [
    "# Load example data\n",
    "import json\n",
    "\n",
    "with open('../data/example_data.json', 'r') as f:\n",
    "    data = json.load(f)\n",
    "\n",
    "# Inspect subset of data\n",
    "data[:10]"
   ]
  },
  {
   "cell_type": "markdown",
   "id": "cebefd19",
   "metadata": {},
   "source": [
    "### Attribution Methods\n",
    "\n"
   ]
  },
  {
   "cell_type": "code",
   "execution_count": 10,
   "id": "9b1651cd",
   "metadata": {},
   "outputs": [
    {
     "data": {
      "text/plain": [
       "{'A': 875995, 'B': 3503081, 'C': 2741803}"
      ]
     },
     "execution_count": 10,
     "metadata": {},
     "output_type": "execute_result"
    }
   ],
   "source": [
    "from attribution.valuator import build_valuator\n",
    "\n",
    "valuator = build_valuator(data, 'first_touch')\n",
    "\n",
    "valuator.valuate_treatments()"
   ]
  },
  {
   "cell_type": "code",
   "execution_count": 11,
   "id": "43c16a47",
   "metadata": {},
   "outputs": [
    {
     "data": {
      "text/plain": [
       "{'A': 6122920, 'B': 915703, 'C': 82256}"
      ]
     },
     "execution_count": 11,
     "metadata": {},
     "output_type": "execute_result"
    }
   ],
   "source": [
    "valuator = build_valuator(data, 'last_touch')\n",
    "\n",
    "valuator.valuate_treatments()"
   ]
  },
  {
   "cell_type": "code",
   "execution_count": 13,
   "id": "24150989",
   "metadata": {},
   "outputs": [
    {
     "name": "stderr",
     "output_type": "stream",
     "text": [
      "                                                                                \r"
     ]
    },
    {
     "data": {
      "text/plain": [
       "{'A': 3159066.0, 'B': 2890174.9999999995, 'C': 1071638.0}"
      ]
     },
     "execution_count": 13,
     "metadata": {},
     "output_type": "execute_result"
    }
   ],
   "source": [
    "valuator = build_valuator(data, 'shapley')\n",
    "\n",
    "valuator.valuate_treatments()"
   ]
  }
 ],
 "metadata": {
  "kernelspec": {
   "display_name": "Python 3 (ipykernel)",
   "language": "python",
   "name": "python3"
  },
  "language_info": {
   "codemirror_mode": {
    "name": "ipython",
    "version": 3
   },
   "file_extension": ".py",
   "mimetype": "text/x-python",
   "name": "python",
   "nbconvert_exporter": "python",
   "pygments_lexer": "ipython3",
   "version": "3.9.5"
  }
 },
 "nbformat": 4,
 "nbformat_minor": 5
}
